{
 "cells": [
  {
   "cell_type": "code",
   "execution_count": 1,
   "metadata": {
    "scrolled": true
   },
   "outputs": [],
   "source": [
    "import pandas as pd\n",
    "import numpy as np\n",
    "\n",
    "# Read.\n",
    "df = pd.read_excel('reuben_calendar_report.xls')\n",
    "\n",
    "# Extract only the useful columns.\n",
    "df = df[['Text','Weekday','Date','Duration']]\n",
    "\n",
    "# Drop everywhere without any actual tutoring data.\n",
    "df = df[pd.notnull(df['Duration'])]\n",
    "\n",
    "# Drop rows with NaN values in them.\n",
    "df = df.dropna()\n",
    "\n",
    "# Make timestamp objects.\n",
    "df['Date'] = [pd.Timestamp(x) for x in df['Date']]\n",
    "\n",
    "# Reset index.\n",
    "df.reset_index(drop=True,inplace=True)"
   ]
  },
  {
   "cell_type": "markdown",
   "metadata": {},
   "source": [
    "## Tutoring Events Only"
   ]
  },
  {
   "cell_type": "code",
   "execution_count": 2,
   "metadata": {},
   "outputs": [
    {
     "name": "stderr",
     "output_type": "stream",
     "text": [
      "/home/reuben/anaconda3/lib/python3.7/site-packages/ipykernel_launcher.py:5: SettingWithCopyWarning: \n",
      "A value is trying to be set on a copy of a slice from a DataFrame.\n",
      "Try using .loc[row_indexer,col_indexer] = value instead\n",
      "\n",
      "See the caveats in the documentation: http://pandas.pydata.org/pandas-docs/stable/indexing.html#indexing-view-versus-copy\n",
      "  \"\"\"\n"
     ]
    }
   ],
   "source": [
    "# Extract only sessions with 'TUTOR' in the name.\n",
    "tut = df[df['Text'].str.contains('TUTOR')]\n",
    "\n",
    "# Split each TEXT column element and extract the student names.\n",
    "tut['Student'] = [element.split()[1] for element in tut['Text']]"
   ]
  },
  {
   "cell_type": "code",
   "execution_count": 3,
   "metadata": {},
   "outputs": [
    {
     "name": "stderr",
     "output_type": "stream",
     "text": [
      "/home/reuben/anaconda3/lib/python3.7/site-packages/pandas/core/indexing.py:543: SettingWithCopyWarning: \n",
      "A value is trying to be set on a copy of a slice from a DataFrame.\n",
      "Try using .loc[row_indexer,col_indexer] = value instead\n",
      "\n",
      "See the caveats in the documentation: http://pandas.pydata.org/pandas-docs/stable/indexing.html#indexing-view-versus-copy\n",
      "  self.obj[item] = s\n"
     ]
    }
   ],
   "source": [
    "# Remap the names to account for slight mis-spellings or things like\n",
    "# \"so and so's daughter/son\".\n",
    "\n",
    "name_remap_dict = {'KELLY\\'S':'KENEDY','SHAUNA\\'S':'KRISTIANA','HAEMAN':'HARMAN',\n",
    "                      'KARA\\'S':'KEEGEN','MOHAMMED':'MOHAMMAD'}\n",
    "\n",
    "updated_names = [name_remap_dict[name] if name in name_remap_dict.keys() \n",
    "                 else name for name in tut['Student']]\n",
    "\n",
    "tut.loc[:,'Student'] = updated_names"
   ]
  },
  {
   "cell_type": "code",
   "execution_count": 18,
   "metadata": {
    "scrolled": true
   },
   "outputs": [
    {
     "name": "stderr",
     "output_type": "stream",
     "text": [
      "/home/reuben/anaconda3/lib/python3.7/site-packages/pandas/core/frame.py:3697: SettingWithCopyWarning: \n",
      "A value is trying to be set on a copy of a slice from a DataFrame\n",
      "\n",
      "See the caveats in the documentation: http://pandas.pydata.org/pandas-docs/stable/indexing.html#indexing-view-versus-copy\n",
      "  errors=errors)\n",
      "/home/reuben/anaconda3/lib/python3.7/site-packages/ipykernel_launcher.py:11: SettingWithCopyWarning: \n",
      "A value is trying to be set on a copy of a slice from a DataFrame.\n",
      "Try using .loc[row_indexer,col_indexer] = value instead\n",
      "\n",
      "See the caveats in the documentation: http://pandas.pydata.org/pandas-docs/stable/indexing.html#indexing-view-versus-copy\n",
      "  # This is added back by InteractiveShellApp.init_path()\n"
     ]
    }
   ],
   "source": [
    "# Remove the 'text' column from the DataFrame.\n",
    "tut.drop('Text',axis=1,inplace=True)\n",
    "\n",
    "# Change duration to a float value.\n",
    "def convert_duration(timestamp):\n",
    "    \"\"\"Convert timestamp of duration into a float number of hours.\"\"\"\n",
    "    dur_split = str(timestamp).split(':')\n",
    "    dur = float(dur_split[0])+float(dur_split[1])/60.0\n",
    "    return(dur)\n",
    "\n",
    "tut['Duration'] = [convert_duration(x) for x in tut['Duration']]"
   ]
  },
  {
   "cell_type": "code",
   "execution_count": 21,
   "metadata": {},
   "outputs": [],
   "source": [
    "# Output the cleaned datafile.\n",
    "tut.to_csv('cleaned_tutoring_data.csv',index=False)"
   ]
  },
  {
   "cell_type": "code",
   "execution_count": null,
   "metadata": {},
   "outputs": [],
   "source": []
  }
 ],
 "metadata": {
  "kernelspec": {
   "display_name": "Python 3",
   "language": "python",
   "name": "python3"
  },
  "language_info": {
   "codemirror_mode": {
    "name": "ipython",
    "version": 3
   },
   "file_extension": ".py",
   "mimetype": "text/x-python",
   "name": "python",
   "nbconvert_exporter": "python",
   "pygments_lexer": "ipython3",
   "version": "3.7.1"
  }
 },
 "nbformat": 4,
 "nbformat_minor": 2
}
